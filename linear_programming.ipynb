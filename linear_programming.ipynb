{
  "nbformat": 4,
  "nbformat_minor": 0,
  "metadata": {
    "colab": {
      "name": "linear_programming.ipynb",
      "provenance": [],
      "collapsed_sections": [],
      "include_colab_link": true
    },
    "kernelspec": {
      "name": "python3",
      "display_name": "Python 3"
    }
  },
  "cells": [
    {
      "cell_type": "markdown",
      "metadata": {
        "id": "view-in-github",
        "colab_type": "text"
      },
      "source": [
        "<a href=\"https://colab.research.google.com/github/L1ttl3S1st3r/lpexample/blob/master/linear_programming.ipynb\" target=\"_parent\"><img src=\"https://colab.research.google.com/assets/colab-badge.svg\" alt=\"Open In Colab\"/></a>"
      ]
    },
    {
      "cell_type": "code",
      "metadata": {
        "id": "pYpP1nlPH_Ly",
        "colab_type": "code",
        "colab": {}
      },
      "source": [
        "import numpy as np\n",
        "from scipy.optimize import linprog"
      ],
      "execution_count": 0,
      "outputs": []
    },
    {
      "cell_type": "markdown",
      "metadata": {
        "id": "DKhoxbJ2IH9t",
        "colab_type": "text"
      },
      "source": [
        "# Расчёт оптимизированной по МО стратегии для подготовки к ТРИТПО  \n",
        "**Используется линейное программирование и движение по градиенту**\n",
        "\n",
        "**Описание ЛП:**   \n",
        "x - вектор к-ва выученных вопросов  \n",
        "c - к-ы мат. ожидания экзамена  \n",
        "c.T * x - МО оценки по экзамену  \n",
        "A - 1 матрица временных ограничений  \n",
        "B - 2 ма-ца временных ограничений  \n",
        "\n",
        "Нужно максимизировать следующее выражение:\n",
        "c.T * x\n",
        "\n",
        "При условиях, что:  \n",
        "* A * x <= B\n",
        "* x[i] >= 0 при любом i\n",
        "\n",
        "**Описание движения по градиенту:**  \n",
        "Из выбранных ЛП вопросов при изучении выбираем вопросы с большей производной МО"
      ]
    },
    {
      "cell_type": "markdown",
      "metadata": {
        "id": "l2PgTVubJiQI",
        "colab_type": "text"
      },
      "source": [
        "## Составление условия для линейной программы"
      ]
    },
    {
      "cell_type": "code",
      "metadata": {
        "id": "jWkn4dGkKJxe",
        "colab_type": "code",
        "outputId": "36c79e84-e939-4470-a6d4-8d52ead88247",
        "colab": {
          "base_uri": "https://localhost:8080/",
          "height": 34
        }
      },
      "source": [
        "# Количества вариантов вопросов\n",
        "questions = np.array([30, 45, 30])\n",
        "\n",
        "# Стоймости вопросов\n",
        "price = np.array([10 / 3, 10 / 3, 10 / 3])\n",
        "\n",
        "c = np.array([1, 1, 1]) * price * (-1) / questions\n",
        "print(c)"
      ],
      "execution_count": 0,
      "outputs": [
        {
          "output_type": "stream",
          "text": [
            "[-0.11111111 -0.07407407 -0.11111111]\n"
          ],
          "name": "stdout"
        }
      ]
    },
    {
      "cell_type": "code",
      "metadata": {
        "id": "-4uTInxJK8_i",
        "colab_type": "code",
        "colab": {}
      },
      "source": [
        "# Ограничения по допустимым значениям\n",
        "questions_bounds = ((0, 30), (0, 45), (0, 30))\n",
        "\n",
        "# Временные ограничения\n",
        "A = [[1 / 5, 1 / 2, 1 / 5]]\n",
        "B = [15]"
      ],
      "execution_count": 0,
      "outputs": []
    },
    {
      "cell_type": "markdown",
      "metadata": {
        "id": "_Bj1Hg1dNfnc",
        "colab_type": "text"
      },
      "source": [
        "## Решение линейной программы + сортировка по производной"
      ]
    },
    {
      "cell_type": "code",
      "metadata": {
        "id": "QU8YuGOfNwEo",
        "colab_type": "code",
        "colab": {}
      },
      "source": [
        "solution = linprog(c, A_ub=A, b_ub=B, bounds=questions_bounds)\n",
        "derivatives = [pair for pair in enumerate(c)]\n",
        "derivatives = sorted(derivatives, key=lambda x: x[1])"
      ],
      "execution_count": 0,
      "outputs": []
    },
    {
      "cell_type": "markdown",
      "metadata": {
        "id": "HaPQi4EcOMW8",
        "colab_type": "text"
      },
      "source": [
        "## Итоги:"
      ]
    },
    {
      "cell_type": "code",
      "metadata": {
        "id": "wBAoqvUOOPfT",
        "colab_type": "code",
        "outputId": "ed0eef41-1d19-4234-f1c9-7f2761cf574d",
        "colab": {
          "base_uri": "https://localhost:8080/",
          "height": 136
        }
      },
      "source": [
        "print(\"optimal counts: {}\".format(\", \".join([str(round(x)) for x in solution.x])))\n",
        "mark_ev = sum(solution.x * (-1) * c)\n",
        "print(\"mark EV: {}\".format(mark_ev))\n",
        "print('order:\\nquestion | -derivative')\n",
        "for pair in derivatives:\n",
        "    print(pair[0] + 1, pair[1], sep=' | ')"
      ],
      "execution_count": 0,
      "outputs": [
        {
          "output_type": "stream",
          "text": [
            "optimal counts: 30.0, 6.0, 30.0\n",
            "mark EV: 7.111111110539806\n",
            "order:\n",
            "question | -derivative\n",
            "1 | -0.11111111111111112\n",
            "3 | -0.11111111111111112\n",
            "2 | -0.07407407407407408\n"
          ],
          "name": "stdout"
        }
      ]
    }
  ]
}